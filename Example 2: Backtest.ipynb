{
 "cells": [
  {
   "cell_type": "code",
   "execution_count": 35,
   "id": "c8f00bd4",
   "metadata": {},
   "outputs": [
    {
     "name": "stdout",
     "output_type": "stream",
     "text": [
      "The autoreload extension is already loaded. To reload it, use:\n",
      "  %reload_ext autoreload\n"
     ]
    }
   ],
   "source": [
    "import warnings\n",
    "warnings.filterwarnings('ignore')\n",
    "\n",
    "import polars as pl\n",
    "import pandas as pd\n",
    "import numpy as np\n",
    "\n",
    "import backtrader as bt\n",
    "\n",
    "from poly_utils import get_markets\n",
    "from backtrader_plotting import Bokeh\n",
    "from backtrader.feeds import PandasData\n",
    "\n",
    "from backtrader_plotting.schemes import Blackly\n",
    "from bokeh.plotting import output_file, save\n",
    "\n",
    "%load_ext autoreload\n",
    "%autoreload 2\n"
   ]
  },
  {
   "cell_type": "code",
   "execution_count": 2,
   "id": "afba2f32",
   "metadata": {},
   "outputs": [],
   "source": [
    "df = pl.scan_csv(\"processed/trades.csv\").collect(streaming=True)\n",
    "\n",
    "df = df.with_columns(\n",
    "    pl.col(\"timestamp\").str.to_datetime().alias(\"timestamp\")\n",
    ")"
   ]
  },
  {
   "cell_type": "code",
   "execution_count": 57,
   "id": "32d760c1",
   "metadata": {},
   "outputs": [
    {
     "name": "stdout",
     "output_type": "stream",
     "text": [
      "Loaded 119554 markets from markets.csv\n",
      "Combined total: 119277 unique markets (sorted by createdAt)\n"
     ]
    }
   ],
   "source": [
    "markets = get_markets()"
   ]
  },
  {
   "cell_type": "code",
   "execution_count": 58,
   "id": "fb46006d",
   "metadata": {},
   "outputs": [],
   "source": [
    "markets = markets.with_columns(\n",
    "    pl.col(\"createdAt\").str.to_datetime().alias(\"createdAt\")\n",
    ")"
   ]
  },
  {
   "cell_type": "code",
   "execution_count": 63,
   "id": "66881930",
   "metadata": {},
   "outputs": [],
   "source": [
    "markets = markets.with_columns(\n",
    "    pl.col('createdAt').dt.replace_time_zone(None)\n",
    ")"
   ]
  },
  {
   "cell_type": "code",
   "execution_count": 73,
   "id": "e53d009f",
   "metadata": {},
   "outputs": [],
   "source": [
    "target_id = markets.filter(markets['question'].str.contains('Will Donald Trump win the 2024 US Presidential Election')).sort('volume').row(0, named=True)['id']"
   ]
  },
  {
   "cell_type": "code",
   "execution_count": 74,
   "id": "138fc27e",
   "metadata": {},
   "outputs": [],
   "source": [
    "sel_df = df.filter(pl.col('market_id') == target_id)"
   ]
  },
  {
   "cell_type": "code",
   "execution_count": 75,
   "id": "7f4450dd",
   "metadata": {},
   "outputs": [
    {
     "data": {
      "text/html": [
       "<div><style>\n",
       ".dataframe > thead > tr,\n",
       ".dataframe > tbody > tr {\n",
       "  text-align: right;\n",
       "  white-space: pre-wrap;\n",
       "}\n",
       "</style>\n",
       "<small>shape: (5_055_678, 11)</small><table border=\"1\" class=\"dataframe\"><thead><tr><th>timestamp</th><th>market_id</th><th>maker</th><th>taker</th><th>nonusdc_side</th><th>maker_direction</th><th>taker_direction</th><th>price</th><th>usd_amount</th><th>token_amount</th><th>transactionHash</th></tr><tr><td>datetime[μs]</td><td>i64</td><td>str</td><td>str</td><td>str</td><td>str</td><td>str</td><td>f64</td><td>f64</td><td>f64</td><td>str</td></tr></thead><tbody><tr><td>2024-01-05 02:36:24</td><td>253591</td><td>&quot;0xd42f6a1634a3707e27cbae14ca96…</td><td>&quot;0xf0b049379bbd6399ad1c6704345a…</td><td>&quot;token2&quot;</td><td>&quot;BUY&quot;</td><td>&quot;SELL&quot;</td><td>0.58</td><td>22.095238</td><td>38.095237</td><td>&quot;0x7fea7cb4b1d8e2af697578ee7d6b…</td></tr><tr><td>2024-01-05 02:36:24</td><td>253591</td><td>&quot;0xf0b049379bbd6399ad1c6704345a…</td><td>&quot;0xc5d563a36ae78145c45a50134d48…</td><td>&quot;token1&quot;</td><td>&quot;BUY&quot;</td><td>&quot;SELL&quot;</td><td>0.42</td><td>99.999999</td><td>238.095237</td><td>&quot;0x7fea7cb4b1d8e2af697578ee7d6b…</td></tr><tr><td>2024-01-05 02:36:24</td><td>253591</td><td>&quot;0x8698edbefd013db6d087e3d09eef…</td><td>&quot;0xf0b049379bbd6399ad1c6704345a…</td><td>&quot;token1&quot;</td><td>&quot;SELL&quot;</td><td>&quot;BUY&quot;</td><td>0.42</td><td>84.0</td><td>200.0</td><td>&quot;0x7fea7cb4b1d8e2af697578ee7d6b…</td></tr><tr><td>2024-01-05 03:33:10</td><td>253591</td><td>&quot;0x8698edbefd013db6d087e3d09eef…</td><td>&quot;0x9d84ce0306f8551e02efef168047…</td><td>&quot;token2&quot;</td><td>&quot;SELL&quot;</td><td>&quot;BUY&quot;</td><td>0.59</td><td>118.0</td><td>200.0</td><td>&quot;0x186fb98a63dbbb74dd4e5d167fe7…</td></tr><tr><td>2024-01-05 03:33:10</td><td>253591</td><td>&quot;0xd42f6a1634a3707e27cbae14ca96…</td><td>&quot;0x9d84ce0306f8551e02efef168047…</td><td>&quot;token2&quot;</td><td>&quot;SELL&quot;</td><td>&quot;BUY&quot;</td><td>0.59</td><td>5.9</td><td>10.0</td><td>&quot;0x186fb98a63dbbb74dd4e5d167fe7…</td></tr><tr><td>&hellip;</td><td>&hellip;</td><td>&hellip;</td><td>&hellip;</td><td>&hellip;</td><td>&hellip;</td><td>&hellip;</td><td>&hellip;</td><td>&hellip;</td><td>&hellip;</td><td>&hellip;</td></tr><tr><td>2024-11-06 15:20:33</td><td>253591</td><td>&quot;0xb79dd020f60b7d09bc801c5a6055…</td><td>&quot;0xc5d563a36ae78145c45a50134d48…</td><td>&quot;token1&quot;</td><td>&quot;BUY&quot;</td><td>&quot;SELL&quot;</td><td>0.999</td><td>0.34965</td><td>0.35</td><td>&quot;0x2b6365ceac2aa48a4f1975b21b6a…</td></tr><tr><td>2024-11-06 15:20:35</td><td>253591</td><td>&quot;0x2fb0f88ef5ba40e799b996e6f07b…</td><td>&quot;0xd53d94afcb32eb1db663118e5f83…</td><td>&quot;token1&quot;</td><td>&quot;BUY&quot;</td><td>&quot;SELL&quot;</td><td>0.998</td><td>94.18126</td><td>94.37</td><td>&quot;0xcef4b27fdb54c6fd8330cb5cb591…</td></tr><tr><td>2024-11-06 15:20:35</td><td>253591</td><td>&quot;0xd53d94afcb32eb1db663118e5f83…</td><td>&quot;0xc5d563a36ae78145c45a50134d48…</td><td>&quot;token1&quot;</td><td>&quot;SELL&quot;</td><td>&quot;BUY&quot;</td><td>0.998</td><td>94.18126</td><td>94.37</td><td>&quot;0xcef4b27fdb54c6fd8330cb5cb591…</td></tr><tr><td>2024-11-06 15:20:35</td><td>253591</td><td>&quot;0x2fb0f88ef5ba40e799b996e6f07b…</td><td>&quot;0xe0904e088f7c17f72c97f1f87c9f…</td><td>&quot;token1&quot;</td><td>&quot;BUY&quot;</td><td>&quot;SELL&quot;</td><td>0.998</td><td>5.3892</td><td>5.4</td><td>&quot;0x11bce3547abbfbafdafc8b09e432…</td></tr><tr><td>2024-11-06 15:20:35</td><td>253591</td><td>&quot;0xe0904e088f7c17f72c97f1f87c9f…</td><td>&quot;0xc5d563a36ae78145c45a50134d48…</td><td>&quot;token1&quot;</td><td>&quot;SELL&quot;</td><td>&quot;BUY&quot;</td><td>0.998</td><td>5.3892</td><td>5.4</td><td>&quot;0x11bce3547abbfbafdafc8b09e432…</td></tr></tbody></table></div>"
      ],
      "text/plain": [
       "shape: (5_055_678, 11)\n",
       "┌────────────┬───────────┬────────────┬────────────┬───┬───────┬───────────┬───────────┬───────────┐\n",
       "│ timestamp  ┆ market_id ┆ maker      ┆ taker      ┆ … ┆ price ┆ usd_amoun ┆ token_amo ┆ transacti │\n",
       "│ ---        ┆ ---       ┆ ---        ┆ ---        ┆   ┆ ---   ┆ t         ┆ unt       ┆ onHash    │\n",
       "│ datetime[μ ┆ i64       ┆ str        ┆ str        ┆   ┆ f64   ┆ ---       ┆ ---       ┆ ---       │\n",
       "│ s]         ┆           ┆            ┆            ┆   ┆       ┆ f64       ┆ f64       ┆ str       │\n",
       "╞════════════╪═══════════╪════════════╪════════════╪═══╪═══════╪═══════════╪═══════════╪═══════════╡\n",
       "│ 2024-01-05 ┆ 253591    ┆ 0xd42f6a16 ┆ 0xf0b04937 ┆ … ┆ 0.58  ┆ 22.095238 ┆ 38.095237 ┆ 0x7fea7cb │\n",
       "│ 02:36:24   ┆           ┆ 34a3707e27 ┆ 9bbd6399ad ┆   ┆       ┆           ┆           ┆ 4b1d8e2af │\n",
       "│            ┆           ┆ cbae14ca96 ┆ 1c6704345a ┆   ┆       ┆           ┆           ┆ 697578ee7 │\n",
       "│            ┆           ┆ …          ┆ …          ┆   ┆       ┆           ┆           ┆ d6b…      │\n",
       "│ 2024-01-05 ┆ 253591    ┆ 0xf0b04937 ┆ 0xc5d563a3 ┆ … ┆ 0.42  ┆ 99.999999 ┆ 238.09523 ┆ 0x7fea7cb │\n",
       "│ 02:36:24   ┆           ┆ 9bbd6399ad ┆ 6ae78145c4 ┆   ┆       ┆           ┆ 7         ┆ 4b1d8e2af │\n",
       "│            ┆           ┆ 1c6704345a ┆ 5a50134d48 ┆   ┆       ┆           ┆           ┆ 697578ee7 │\n",
       "│            ┆           ┆ …          ┆ …          ┆   ┆       ┆           ┆           ┆ d6b…      │\n",
       "│ 2024-01-05 ┆ 253591    ┆ 0x8698edbe ┆ 0xf0b04937 ┆ … ┆ 0.42  ┆ 84.0      ┆ 200.0     ┆ 0x7fea7cb │\n",
       "│ 02:36:24   ┆           ┆ fd013db6d0 ┆ 9bbd6399ad ┆   ┆       ┆           ┆           ┆ 4b1d8e2af │\n",
       "│            ┆           ┆ 87e3d09eef ┆ 1c6704345a ┆   ┆       ┆           ┆           ┆ 697578ee7 │\n",
       "│            ┆           ┆ …          ┆ …          ┆   ┆       ┆           ┆           ┆ d6b…      │\n",
       "│ 2024-01-05 ┆ 253591    ┆ 0x8698edbe ┆ 0x9d84ce03 ┆ … ┆ 0.59  ┆ 118.0     ┆ 200.0     ┆ 0x186fb98 │\n",
       "│ 03:33:10   ┆           ┆ fd013db6d0 ┆ 06f8551e02 ┆   ┆       ┆           ┆           ┆ a63dbbb74 │\n",
       "│            ┆           ┆ 87e3d09eef ┆ efef168047 ┆   ┆       ┆           ┆           ┆ dd4e5d167 │\n",
       "│            ┆           ┆ …          ┆ …          ┆   ┆       ┆           ┆           ┆ fe7…      │\n",
       "│ 2024-01-05 ┆ 253591    ┆ 0xd42f6a16 ┆ 0x9d84ce03 ┆ … ┆ 0.59  ┆ 5.9       ┆ 10.0      ┆ 0x186fb98 │\n",
       "│ 03:33:10   ┆           ┆ 34a3707e27 ┆ 06f8551e02 ┆   ┆       ┆           ┆           ┆ a63dbbb74 │\n",
       "│            ┆           ┆ cbae14ca96 ┆ efef168047 ┆   ┆       ┆           ┆           ┆ dd4e5d167 │\n",
       "│            ┆           ┆ …          ┆ …          ┆   ┆       ┆           ┆           ┆ fe7…      │\n",
       "│ …          ┆ …         ┆ …          ┆ …          ┆ … ┆ …     ┆ …         ┆ …         ┆ …         │\n",
       "│ 2024-11-06 ┆ 253591    ┆ 0xb79dd020 ┆ 0xc5d563a3 ┆ … ┆ 0.999 ┆ 0.34965   ┆ 0.35      ┆ 0x2b6365c │\n",
       "│ 15:20:33   ┆           ┆ f60b7d09bc ┆ 6ae78145c4 ┆   ┆       ┆           ┆           ┆ eac2aa48a │\n",
       "│            ┆           ┆ 801c5a6055 ┆ 5a50134d48 ┆   ┆       ┆           ┆           ┆ 4f1975b21 │\n",
       "│            ┆           ┆ …          ┆ …          ┆   ┆       ┆           ┆           ┆ b6a…      │\n",
       "│ 2024-11-06 ┆ 253591    ┆ 0x2fb0f88e ┆ 0xd53d94af ┆ … ┆ 0.998 ┆ 94.18126  ┆ 94.37     ┆ 0xcef4b27 │\n",
       "│ 15:20:35   ┆           ┆ f5ba40e799 ┆ cb32eb1db6 ┆   ┆       ┆           ┆           ┆ fdb54c6fd │\n",
       "│            ┆           ┆ b996e6f07b ┆ 63118e5f83 ┆   ┆       ┆           ┆           ┆ 8330cb5cb │\n",
       "│            ┆           ┆ …          ┆ …          ┆   ┆       ┆           ┆           ┆ 591…      │\n",
       "│ 2024-11-06 ┆ 253591    ┆ 0xd53d94af ┆ 0xc5d563a3 ┆ … ┆ 0.998 ┆ 94.18126  ┆ 94.37     ┆ 0xcef4b27 │\n",
       "│ 15:20:35   ┆           ┆ cb32eb1db6 ┆ 6ae78145c4 ┆   ┆       ┆           ┆           ┆ fdb54c6fd │\n",
       "│            ┆           ┆ 63118e5f83 ┆ 5a50134d48 ┆   ┆       ┆           ┆           ┆ 8330cb5cb │\n",
       "│            ┆           ┆ …          ┆ …          ┆   ┆       ┆           ┆           ┆ 591…      │\n",
       "│ 2024-11-06 ┆ 253591    ┆ 0x2fb0f88e ┆ 0xe0904e08 ┆ … ┆ 0.998 ┆ 5.3892    ┆ 5.4       ┆ 0x11bce35 │\n",
       "│ 15:20:35   ┆           ┆ f5ba40e799 ┆ 8f7c17f72c ┆   ┆       ┆           ┆           ┆ 47abbfbaf │\n",
       "│            ┆           ┆ b996e6f07b ┆ 97f1f87c9f ┆   ┆       ┆           ┆           ┆ dafc8b09e │\n",
       "│            ┆           ┆ …          ┆ …          ┆   ┆       ┆           ┆           ┆ 432…      │\n",
       "│ 2024-11-06 ┆ 253591    ┆ 0xe0904e08 ┆ 0xc5d563a3 ┆ … ┆ 0.998 ┆ 5.3892    ┆ 5.4       ┆ 0x11bce35 │\n",
       "│ 15:20:35   ┆           ┆ 8f7c17f72c ┆ 6ae78145c4 ┆   ┆       ┆           ┆           ┆ 47abbfbaf │\n",
       "│            ┆           ┆ 97f1f87c9f ┆ 5a50134d48 ┆   ┆       ┆           ┆           ┆ dafc8b09e │\n",
       "│            ┆           ┆ …          ┆ …          ┆   ┆       ┆           ┆           ┆ 432…      │\n",
       "└────────────┴───────────┴────────────┴────────────┴───┴───────┴───────────┴───────────┴───────────┘"
      ]
     },
     "execution_count": 75,
     "metadata": {},
     "output_type": "execute_result"
    }
   ],
   "source": [
    "sel_df"
   ]
  },
  {
   "cell_type": "code",
   "execution_count": 76,
   "id": "c4cdacf2",
   "metadata": {},
   "outputs": [],
   "source": [
    "sel_df = sel_df[['timestamp', 'price', 'usd_amount', 'nonusdc_side']]"
   ]
  },
  {
   "cell_type": "code",
   "execution_count": 77,
   "id": "bc5582be",
   "metadata": {},
   "outputs": [],
   "source": [
    "sel_df = sel_df.to_pandas()"
   ]
  },
  {
   "cell_type": "code",
   "execution_count": 78,
   "id": "ebe0d849",
   "metadata": {},
   "outputs": [],
   "source": [
    "sel_df['price'] = np.where(sel_df['nonusdc_side'] == 'token2', 1 - sel_df['price'], sel_df['price']) #standardize it for ease"
   ]
  },
  {
   "cell_type": "code",
   "execution_count": 79,
   "id": "08e8bc76",
   "metadata": {},
   "outputs": [],
   "source": [
    "sel_df = sel_df[['timestamp', 'price', 'usd_amount']]"
   ]
  },
  {
   "cell_type": "code",
   "execution_count": 80,
   "id": "b421d88f",
   "metadata": {},
   "outputs": [],
   "source": [
    "sel_df = sel_df.set_index('timestamp')\n",
    "\n",
    "# Resample to 1-minute bars\n",
    "ohlcv = sel_df.resample('10min').agg({\n",
    "    'price': ['first', 'max', 'min', 'last'],\n",
    "    'usd_amount': 'sum'\n",
    "})\n",
    "\n",
    "# Flatten column names\n",
    "ohlcv.columns = ['open', 'high', 'low', 'close', 'volume']\n",
    "\n",
    "# Reset index if you want timestamp as a column\n",
    "ohlcv = ohlcv.reset_index()\n"
   ]
  },
  {
   "cell_type": "code",
   "execution_count": 81,
   "id": "ffcf12b5",
   "metadata": {},
   "outputs": [],
   "source": [
    "ohlcv = ohlcv.dropna()\n"
   ]
  },
  {
   "cell_type": "code",
   "execution_count": 82,
   "id": "9166a6e3",
   "metadata": {},
   "outputs": [],
   "source": [
    "ohlcv = ohlcv[ohlcv['timestamp'] >= \"2024-10-01\"]"
   ]
  },
  {
   "cell_type": "code",
   "execution_count": 83,
   "id": "6f9aec00",
   "metadata": {},
   "outputs": [
    {
     "data": {
      "text/html": [
       "<div>\n",
       "<style scoped>\n",
       "    .dataframe tbody tr th:only-of-type {\n",
       "        vertical-align: middle;\n",
       "    }\n",
       "\n",
       "    .dataframe tbody tr th {\n",
       "        vertical-align: top;\n",
       "    }\n",
       "\n",
       "    .dataframe thead th {\n",
       "        text-align: right;\n",
       "    }\n",
       "</style>\n",
       "<table border=\"1\" class=\"dataframe\">\n",
       "  <thead>\n",
       "    <tr style=\"text-align: right;\">\n",
       "      <th></th>\n",
       "      <th>timestamp</th>\n",
       "      <th>open</th>\n",
       "      <th>high</th>\n",
       "      <th>low</th>\n",
       "      <th>close</th>\n",
       "      <th>volume</th>\n",
       "    </tr>\n",
       "  </thead>\n",
       "  <tbody>\n",
       "    <tr>\n",
       "      <th>38865</th>\n",
       "      <td>2024-10-01 00:00:00</td>\n",
       "      <td>0.489</td>\n",
       "      <td>0.489</td>\n",
       "      <td>0.488</td>\n",
       "      <td>0.489</td>\n",
       "      <td>1.242784e+04</td>\n",
       "    </tr>\n",
       "    <tr>\n",
       "      <th>38866</th>\n",
       "      <td>2024-10-01 00:10:00</td>\n",
       "      <td>0.488</td>\n",
       "      <td>0.489</td>\n",
       "      <td>0.488</td>\n",
       "      <td>0.488</td>\n",
       "      <td>2.018100e+02</td>\n",
       "    </tr>\n",
       "    <tr>\n",
       "      <th>38867</th>\n",
       "      <td>2024-10-01 00:20:00</td>\n",
       "      <td>0.489</td>\n",
       "      <td>0.489</td>\n",
       "      <td>0.488</td>\n",
       "      <td>0.489</td>\n",
       "      <td>2.011670e+03</td>\n",
       "    </tr>\n",
       "    <tr>\n",
       "      <th>38868</th>\n",
       "      <td>2024-10-01 00:30:00</td>\n",
       "      <td>0.489</td>\n",
       "      <td>0.489</td>\n",
       "      <td>0.488</td>\n",
       "      <td>0.488</td>\n",
       "      <td>6.926000e+02</td>\n",
       "    </tr>\n",
       "    <tr>\n",
       "      <th>38869</th>\n",
       "      <td>2024-10-01 00:40:00</td>\n",
       "      <td>0.488</td>\n",
       "      <td>0.489</td>\n",
       "      <td>0.488</td>\n",
       "      <td>0.488</td>\n",
       "      <td>4.223999e+01</td>\n",
       "    </tr>\n",
       "    <tr>\n",
       "      <th>...</th>\n",
       "      <td>...</td>\n",
       "      <td>...</td>\n",
       "      <td>...</td>\n",
       "      <td>...</td>\n",
       "      <td>...</td>\n",
       "      <td>...</td>\n",
       "    </tr>\n",
       "    <tr>\n",
       "      <th>44137</th>\n",
       "      <td>2024-11-06 14:40:00</td>\n",
       "      <td>0.998</td>\n",
       "      <td>0.999</td>\n",
       "      <td>0.997</td>\n",
       "      <td>0.997</td>\n",
       "      <td>8.303148e+05</td>\n",
       "    </tr>\n",
       "    <tr>\n",
       "      <th>44138</th>\n",
       "      <td>2024-11-06 14:50:00</td>\n",
       "      <td>0.998</td>\n",
       "      <td>0.999</td>\n",
       "      <td>0.997</td>\n",
       "      <td>0.997</td>\n",
       "      <td>4.766331e+05</td>\n",
       "    </tr>\n",
       "    <tr>\n",
       "      <th>44139</th>\n",
       "      <td>2024-11-06 15:00:00</td>\n",
       "      <td>0.997</td>\n",
       "      <td>0.999</td>\n",
       "      <td>0.997</td>\n",
       "      <td>0.998</td>\n",
       "      <td>3.205917e+05</td>\n",
       "    </tr>\n",
       "    <tr>\n",
       "      <th>44140</th>\n",
       "      <td>2024-11-06 15:10:00</td>\n",
       "      <td>0.998</td>\n",
       "      <td>0.999</td>\n",
       "      <td>0.997</td>\n",
       "      <td>0.997</td>\n",
       "      <td>1.297173e+06</td>\n",
       "    </tr>\n",
       "    <tr>\n",
       "      <th>44141</th>\n",
       "      <td>2024-11-06 15:20:00</td>\n",
       "      <td>0.998</td>\n",
       "      <td>0.999</td>\n",
       "      <td>0.997</td>\n",
       "      <td>0.998</td>\n",
       "      <td>6.820832e+03</td>\n",
       "    </tr>\n",
       "  </tbody>\n",
       "</table>\n",
       "<p>5270 rows × 6 columns</p>\n",
       "</div>"
      ],
      "text/plain": [
       "                timestamp   open   high    low  close        volume\n",
       "38865 2024-10-01 00:00:00  0.489  0.489  0.488  0.489  1.242784e+04\n",
       "38866 2024-10-01 00:10:00  0.488  0.489  0.488  0.488  2.018100e+02\n",
       "38867 2024-10-01 00:20:00  0.489  0.489  0.488  0.489  2.011670e+03\n",
       "38868 2024-10-01 00:30:00  0.489  0.489  0.488  0.488  6.926000e+02\n",
       "38869 2024-10-01 00:40:00  0.488  0.489  0.488  0.488  4.223999e+01\n",
       "...                   ...    ...    ...    ...    ...           ...\n",
       "44137 2024-11-06 14:40:00  0.998  0.999  0.997  0.997  8.303148e+05\n",
       "44138 2024-11-06 14:50:00  0.998  0.999  0.997  0.997  4.766331e+05\n",
       "44139 2024-11-06 15:00:00  0.997  0.999  0.997  0.998  3.205917e+05\n",
       "44140 2024-11-06 15:10:00  0.998  0.999  0.997  0.997  1.297173e+06\n",
       "44141 2024-11-06 15:20:00  0.998  0.999  0.997  0.998  6.820832e+03\n",
       "\n",
       "[5270 rows x 6 columns]"
      ]
     },
     "execution_count": 83,
     "metadata": {},
     "output_type": "execute_result"
    }
   ],
   "source": [
    "ohlcv"
   ]
  },
  {
   "cell_type": "code",
   "execution_count": 84,
   "id": "f79bb6ca",
   "metadata": {},
   "outputs": [
    {
     "data": {
      "application/javascript": "/* Put everything inside the global mpl namespace */\n/* global mpl */\nwindow.mpl = {};\n\nmpl.get_websocket_type = function () {\n    if (typeof WebSocket !== 'undefined') {\n        return WebSocket;\n    } else if (typeof MozWebSocket !== 'undefined') {\n        return MozWebSocket;\n    } else {\n        alert(\n            'Your browser does not have WebSocket support. ' +\n                'Please try Chrome, Safari or Firefox ≥ 6. ' +\n                'Firefox 4 and 5 are also supported but you ' +\n                'have to enable WebSockets in about:config.'\n        );\n    }\n};\n\nmpl.figure = function (figure_id, websocket, ondownload, parent_element) {\n    this.id = figure_id;\n\n    this.ws = websocket;\n\n    this.supports_binary = this.ws.binaryType !== undefined;\n\n    if (!this.supports_binary) {\n        var warnings = document.getElementById('mpl-warnings');\n        if (warnings) {\n            warnings.style.display = 'block';\n            warnings.textContent =\n                'This browser does not support binary websocket messages. ' +\n                'Performance may be slow.';\n        }\n    }\n\n    this.imageObj = new Image();\n\n    this.context = undefined;\n    this.message = undefined;\n    this.canvas = undefined;\n    this.rubberband_canvas = undefined;\n    this.rubberband_context = undefined;\n    this.format_dropdown = undefined;\n\n    this.image_mode = 'full';\n\n    this.root = document.createElement('div');\n    this.root.setAttribute('style', 'display: inline-block');\n    this._root_extra_style(this.root);\n\n    parent_element.appendChild(this.root);\n\n    this._init_header(this);\n    this._init_canvas(this);\n    this._init_toolbar(this);\n\n    var fig = this;\n\n    this.waiting = false;\n\n    this.ws.onopen = function () {\n        fig.send_message('supports_binary', { value: fig.supports_binary });\n        fig.send_message('send_image_mode', {});\n        if (fig.ratio !== 1) {\n            fig.send_message('set_device_pixel_ratio', {\n                device_pixel_ratio: fig.ratio,\n            });\n        }\n        fig.send_message('refresh', {});\n    };\n\n    this.imageObj.onload = function () {\n        if (fig.image_mode === 'full') {\n            // Full images could contain transparency (where diff images\n            // almost always do), so we need to clear the canvas so that\n            // there is no ghosting.\n            fig.context.clearRect(0, 0, fig.canvas.width, fig.canvas.height);\n        }\n        fig.context.drawImage(fig.imageObj, 0, 0);\n    };\n\n    this.imageObj.onunload = function () {\n        fig.ws.close();\n    };\n\n    this.ws.onmessage = this._make_on_message_function(this);\n\n    this.ondownload = ondownload;\n};\n\nmpl.figure.prototype._init_header = function () {\n    var titlebar = document.createElement('div');\n    titlebar.classList =\n        'ui-dialog-titlebar ui-widget-header ui-corner-all ui-helper-clearfix';\n    var titletext = document.createElement('div');\n    titletext.classList = 'ui-dialog-title';\n    titletext.setAttribute(\n        'style',\n        'width: 100%; text-align: center; padding: 3px;'\n    );\n    titlebar.appendChild(titletext);\n    this.root.appendChild(titlebar);\n    this.header = titletext;\n};\n\nmpl.figure.prototype._canvas_extra_style = function (_canvas_div) {};\n\nmpl.figure.prototype._root_extra_style = function (_canvas_div) {};\n\nmpl.figure.prototype._init_canvas = function () {\n    var fig = this;\n\n    var canvas_div = (this.canvas_div = document.createElement('div'));\n    canvas_div.setAttribute('tabindex', '0');\n    canvas_div.setAttribute(\n        'style',\n        'border: 1px solid #ddd;' +\n            'box-sizing: content-box;' +\n            'clear: both;' +\n            'min-height: 1px;' +\n            'min-width: 1px;' +\n            'outline: 0;' +\n            'overflow: hidden;' +\n            'position: relative;' +\n            'resize: both;' +\n            'z-index: 2;'\n    );\n\n    function on_keyboard_event_closure(name) {\n        return function (event) {\n            return fig.key_event(event, name);\n        };\n    }\n\n    canvas_div.addEventListener(\n        'keydown',\n        on_keyboard_event_closure('key_press')\n    );\n    canvas_div.addEventListener(\n        'keyup',\n        on_keyboard_event_closure('key_release')\n    );\n\n    this._canvas_extra_style(canvas_div);\n    this.root.appendChild(canvas_div);\n\n    var canvas = (this.canvas = document.createElement('canvas'));\n    canvas.classList.add('mpl-canvas');\n    canvas.setAttribute(\n        'style',\n        'box-sizing: content-box;' +\n            'pointer-events: none;' +\n            'position: relative;' +\n            'z-index: 0;'\n    );\n\n    this.context = canvas.getContext('2d');\n\n    var backingStore =\n        this.context.backingStorePixelRatio ||\n        this.context.webkitBackingStorePixelRatio ||\n        this.context.mozBackingStorePixelRatio ||\n        this.context.msBackingStorePixelRatio ||\n        this.context.oBackingStorePixelRatio ||\n        this.context.backingStorePixelRatio ||\n        1;\n\n    this.ratio = (window.devicePixelRatio || 1) / backingStore;\n\n    var rubberband_canvas = (this.rubberband_canvas = document.createElement(\n        'canvas'\n    ));\n    rubberband_canvas.setAttribute(\n        'style',\n        'box-sizing: content-box;' +\n            'left: 0;' +\n            'pointer-events: none;' +\n            'position: absolute;' +\n            'top: 0;' +\n            'z-index: 1;'\n    );\n\n    // Apply a ponyfill if ResizeObserver is not implemented by browser.\n    if (this.ResizeObserver === undefined) {\n        if (window.ResizeObserver !== undefined) {\n            this.ResizeObserver = window.ResizeObserver;\n        } else {\n            var obs = _JSXTOOLS_RESIZE_OBSERVER({});\n            this.ResizeObserver = obs.ResizeObserver;\n        }\n    }\n\n    this.resizeObserverInstance = new this.ResizeObserver(function (entries) {\n        // There's no need to resize if the WebSocket is not connected:\n        // - If it is still connecting, then we will get an initial resize from\n        //   Python once it connects.\n        // - If it has disconnected, then resizing will clear the canvas and\n        //   never get anything back to refill it, so better to not resize and\n        //   keep something visible.\n        if (fig.ws.readyState != 1) {\n            return;\n        }\n        var nentries = entries.length;\n        for (var i = 0; i < nentries; i++) {\n            var entry = entries[i];\n            var width, height;\n            if (entry.contentBoxSize) {\n                if (entry.contentBoxSize instanceof Array) {\n                    // Chrome 84 implements new version of spec.\n                    width = entry.contentBoxSize[0].inlineSize;\n                    height = entry.contentBoxSize[0].blockSize;\n                } else {\n                    // Firefox implements old version of spec.\n                    width = entry.contentBoxSize.inlineSize;\n                    height = entry.contentBoxSize.blockSize;\n                }\n            } else {\n                // Chrome <84 implements even older version of spec.\n                width = entry.contentRect.width;\n                height = entry.contentRect.height;\n            }\n\n            // Keep the size of the canvas and rubber band canvas in sync with\n            // the canvas container.\n            if (entry.devicePixelContentBoxSize) {\n                // Chrome 84 implements new version of spec.\n                canvas.setAttribute(\n                    'width',\n                    entry.devicePixelContentBoxSize[0].inlineSize\n                );\n                canvas.setAttribute(\n                    'height',\n                    entry.devicePixelContentBoxSize[0].blockSize\n                );\n            } else {\n                canvas.setAttribute('width', width * fig.ratio);\n                canvas.setAttribute('height', height * fig.ratio);\n            }\n            /* This rescales the canvas back to display pixels, so that it\n             * appears correct on HiDPI screens. */\n            canvas.style.width = width + 'px';\n            canvas.style.height = height + 'px';\n\n            rubberband_canvas.setAttribute('width', width);\n            rubberband_canvas.setAttribute('height', height);\n\n            // And update the size in Python. We ignore the initial 0/0 size\n            // that occurs as the element is placed into the DOM, which should\n            // otherwise not happen due to the minimum size styling.\n            if (width != 0 && height != 0) {\n                fig.request_resize(width, height);\n            }\n        }\n    });\n    this.resizeObserverInstance.observe(canvas_div);\n\n    function on_mouse_event_closure(name) {\n        /* User Agent sniffing is bad, but WebKit is busted:\n         * https://bugs.webkit.org/show_bug.cgi?id=144526\n         * https://bugs.webkit.org/show_bug.cgi?id=181818\n         * The worst that happens here is that they get an extra browser\n         * selection when dragging, if this check fails to catch them.\n         */\n        var UA = navigator.userAgent;\n        var isWebKit = /AppleWebKit/.test(UA) && !/Chrome/.test(UA);\n        if(isWebKit) {\n            return function (event) {\n                /* This prevents the web browser from automatically changing to\n                 * the text insertion cursor when the button is pressed. We\n                 * want to control all of the cursor setting manually through\n                 * the 'cursor' event from matplotlib */\n                event.preventDefault()\n                return fig.mouse_event(event, name);\n            };\n        } else {\n            return function (event) {\n                return fig.mouse_event(event, name);\n            };\n        }\n    }\n\n    canvas_div.addEventListener(\n        'mousedown',\n        on_mouse_event_closure('button_press')\n    );\n    canvas_div.addEventListener(\n        'mouseup',\n        on_mouse_event_closure('button_release')\n    );\n    canvas_div.addEventListener(\n        'dblclick',\n        on_mouse_event_closure('dblclick')\n    );\n    // Throttle sequential mouse events to 1 every 20ms.\n    canvas_div.addEventListener(\n        'mousemove',\n        on_mouse_event_closure('motion_notify')\n    );\n\n    canvas_div.addEventListener(\n        'mouseenter',\n        on_mouse_event_closure('figure_enter')\n    );\n    canvas_div.addEventListener(\n        'mouseleave',\n        on_mouse_event_closure('figure_leave')\n    );\n\n    canvas_div.addEventListener('wheel', function (event) {\n        if (event.deltaY < 0) {\n            event.step = 1;\n        } else {\n            event.step = -1;\n        }\n        on_mouse_event_closure('scroll')(event);\n    });\n\n    canvas_div.appendChild(canvas);\n    canvas_div.appendChild(rubberband_canvas);\n\n    this.rubberband_context = rubberband_canvas.getContext('2d');\n    this.rubberband_context.strokeStyle = '#000000';\n\n    this._resize_canvas = function (width, height, forward) {\n        if (forward) {\n            canvas_div.style.width = width + 'px';\n            canvas_div.style.height = height + 'px';\n        }\n    };\n\n    // Disable right mouse context menu.\n    canvas_div.addEventListener('contextmenu', function (_e) {\n        event.preventDefault();\n        return false;\n    });\n\n    function set_focus() {\n        canvas.focus();\n        canvas_div.focus();\n    }\n\n    window.setTimeout(set_focus, 100);\n};\n\nmpl.figure.prototype._init_toolbar = function () {\n    var fig = this;\n\n    var toolbar = document.createElement('div');\n    toolbar.classList = 'mpl-toolbar';\n    this.root.appendChild(toolbar);\n\n    function on_click_closure(name) {\n        return function (_event) {\n            return fig.toolbar_button_onclick(name);\n        };\n    }\n\n    function on_mouseover_closure(tooltip) {\n        return function (event) {\n            if (!event.currentTarget.disabled) {\n                return fig.toolbar_button_onmouseover(tooltip);\n            }\n        };\n    }\n\n    fig.buttons = {};\n    var buttonGroup = document.createElement('div');\n    buttonGroup.classList = 'mpl-button-group';\n    for (var toolbar_ind in mpl.toolbar_items) {\n        var name = mpl.toolbar_items[toolbar_ind][0];\n        var tooltip = mpl.toolbar_items[toolbar_ind][1];\n        var image = mpl.toolbar_items[toolbar_ind][2];\n        var method_name = mpl.toolbar_items[toolbar_ind][3];\n\n        if (!name) {\n            /* Instead of a spacer, we start a new button group. */\n            if (buttonGroup.hasChildNodes()) {\n                toolbar.appendChild(buttonGroup);\n            }\n            buttonGroup = document.createElement('div');\n            buttonGroup.classList = 'mpl-button-group';\n            continue;\n        }\n\n        var button = (fig.buttons[name] = document.createElement('button'));\n        button.classList = 'mpl-widget';\n        button.setAttribute('role', 'button');\n        button.setAttribute('aria-disabled', 'false');\n        button.addEventListener('click', on_click_closure(method_name));\n        button.addEventListener('mouseover', on_mouseover_closure(tooltip));\n\n        var icon_img = document.createElement('img');\n        icon_img.src = '_images/' + image + '.png';\n        icon_img.srcset = '_images/' + image + '_large.png 2x';\n        icon_img.alt = tooltip;\n        button.appendChild(icon_img);\n\n        buttonGroup.appendChild(button);\n    }\n\n    if (buttonGroup.hasChildNodes()) {\n        toolbar.appendChild(buttonGroup);\n    }\n\n    var fmt_picker = document.createElement('select');\n    fmt_picker.classList = 'mpl-widget';\n    toolbar.appendChild(fmt_picker);\n    this.format_dropdown = fmt_picker;\n\n    for (var ind in mpl.extensions) {\n        var fmt = mpl.extensions[ind];\n        var option = document.createElement('option');\n        option.selected = fmt === mpl.default_extension;\n        option.innerHTML = fmt;\n        fmt_picker.appendChild(option);\n    }\n\n    var status_bar = document.createElement('span');\n    status_bar.classList = 'mpl-message';\n    toolbar.appendChild(status_bar);\n    this.message = status_bar;\n};\n\nmpl.figure.prototype.request_resize = function (x_pixels, y_pixels) {\n    // Request matplotlib to resize the figure. Matplotlib will then trigger a resize in the client,\n    // which will in turn request a refresh of the image.\n    this.send_message('resize', { width: x_pixels, height: y_pixels });\n};\n\nmpl.figure.prototype.send_message = function (type, properties) {\n    properties['type'] = type;\n    properties['figure_id'] = this.id;\n    this.ws.send(JSON.stringify(properties));\n};\n\nmpl.figure.prototype.send_draw_message = function () {\n    if (!this.waiting) {\n        this.waiting = true;\n        this.ws.send(JSON.stringify({ type: 'draw', figure_id: this.id }));\n    }\n};\n\nmpl.figure.prototype.handle_save = function (fig, _msg) {\n    var format_dropdown = fig.format_dropdown;\n    var format = format_dropdown.options[format_dropdown.selectedIndex].value;\n    fig.ondownload(fig, format);\n};\n\nmpl.figure.prototype.handle_resize = function (fig, msg) {\n    var size = msg['size'];\n    if (size[0] !== fig.canvas.width || size[1] !== fig.canvas.height) {\n        fig._resize_canvas(size[0], size[1], msg['forward']);\n        fig.send_message('refresh', {});\n    }\n};\n\nmpl.figure.prototype.handle_rubberband = function (fig, msg) {\n    var x0 = msg['x0'] / fig.ratio;\n    var y0 = (fig.canvas.height - msg['y0']) / fig.ratio;\n    var x1 = msg['x1'] / fig.ratio;\n    var y1 = (fig.canvas.height - msg['y1']) / fig.ratio;\n    x0 = Math.floor(x0) + 0.5;\n    y0 = Math.floor(y0) + 0.5;\n    x1 = Math.floor(x1) + 0.5;\n    y1 = Math.floor(y1) + 0.5;\n    var min_x = Math.min(x0, x1);\n    var min_y = Math.min(y0, y1);\n    var width = Math.abs(x1 - x0);\n    var height = Math.abs(y1 - y0);\n\n    fig.rubberband_context.clearRect(\n        0,\n        0,\n        fig.canvas.width / fig.ratio,\n        fig.canvas.height / fig.ratio\n    );\n\n    fig.rubberband_context.strokeRect(min_x, min_y, width, height);\n};\n\nmpl.figure.prototype.handle_figure_label = function (fig, msg) {\n    // Updates the figure title.\n    fig.header.textContent = msg['label'];\n};\n\nmpl.figure.prototype.handle_cursor = function (fig, msg) {\n    fig.canvas_div.style.cursor = msg['cursor'];\n};\n\nmpl.figure.prototype.handle_message = function (fig, msg) {\n    fig.message.textContent = msg['message'];\n};\n\nmpl.figure.prototype.handle_draw = function (fig, _msg) {\n    // Request the server to send over a new figure.\n    fig.send_draw_message();\n};\n\nmpl.figure.prototype.handle_image_mode = function (fig, msg) {\n    fig.image_mode = msg['mode'];\n};\n\nmpl.figure.prototype.handle_history_buttons = function (fig, msg) {\n    for (var key in msg) {\n        if (!(key in fig.buttons)) {\n            continue;\n        }\n        fig.buttons[key].disabled = !msg[key];\n        fig.buttons[key].setAttribute('aria-disabled', !msg[key]);\n    }\n};\n\nmpl.figure.prototype.handle_navigate_mode = function (fig, msg) {\n    if (msg['mode'] === 'PAN') {\n        fig.buttons['Pan'].classList.add('active');\n        fig.buttons['Zoom'].classList.remove('active');\n    } else if (msg['mode'] === 'ZOOM') {\n        fig.buttons['Pan'].classList.remove('active');\n        fig.buttons['Zoom'].classList.add('active');\n    } else {\n        fig.buttons['Pan'].classList.remove('active');\n        fig.buttons['Zoom'].classList.remove('active');\n    }\n};\n\nmpl.figure.prototype.updated_canvas_event = function () {\n    // Called whenever the canvas gets updated.\n    this.send_message('ack', {});\n};\n\n// A function to construct a web socket function for onmessage handling.\n// Called in the figure constructor.\nmpl.figure.prototype._make_on_message_function = function (fig) {\n    return function socket_on_message(evt) {\n        if (evt.data instanceof Blob) {\n            var img = evt.data;\n            if (img.type !== 'image/png') {\n                /* FIXME: We get \"Resource interpreted as Image but\n                 * transferred with MIME type text/plain:\" errors on\n                 * Chrome.  But how to set the MIME type?  It doesn't seem\n                 * to be part of the websocket stream */\n                img.type = 'image/png';\n            }\n\n            /* Free the memory for the previous frames */\n            if (fig.imageObj.src) {\n                (window.URL || window.webkitURL).revokeObjectURL(\n                    fig.imageObj.src\n                );\n            }\n\n            fig.imageObj.src = (window.URL || window.webkitURL).createObjectURL(\n                img\n            );\n            fig.updated_canvas_event();\n            fig.waiting = false;\n            return;\n        } else if (\n            typeof evt.data === 'string' &&\n            evt.data.slice(0, 21) === 'data:image/png;base64'\n        ) {\n            fig.imageObj.src = evt.data;\n            fig.updated_canvas_event();\n            fig.waiting = false;\n            return;\n        }\n\n        var msg = JSON.parse(evt.data);\n        var msg_type = msg['type'];\n\n        // Call the  \"handle_{type}\" callback, which takes\n        // the figure and JSON message as its only arguments.\n        try {\n            var callback = fig['handle_' + msg_type];\n        } catch (e) {\n            console.log(\n                \"No handler for the '\" + msg_type + \"' message type: \",\n                msg\n            );\n            return;\n        }\n\n        if (callback) {\n            try {\n                // console.log(\"Handling '\" + msg_type + \"' message: \", msg);\n                callback(fig, msg);\n            } catch (e) {\n                console.log(\n                    \"Exception inside the 'handler_\" + msg_type + \"' callback:\",\n                    e,\n                    e.stack,\n                    msg\n                );\n            }\n        }\n    };\n};\n\nfunction getModifiers(event) {\n    var mods = [];\n    if (event.ctrlKey) {\n        mods.push('ctrl');\n    }\n    if (event.altKey) {\n        mods.push('alt');\n    }\n    if (event.shiftKey) {\n        mods.push('shift');\n    }\n    if (event.metaKey) {\n        mods.push('meta');\n    }\n    return mods;\n}\n\n/*\n * return a copy of an object with only non-object keys\n * we need this to avoid circular references\n * https://stackoverflow.com/a/24161582/3208463\n */\nfunction simpleKeys(original) {\n    return Object.keys(original).reduce(function (obj, key) {\n        if (typeof original[key] !== 'object') {\n            obj[key] = original[key];\n        }\n        return obj;\n    }, {});\n}\n\nmpl.figure.prototype.mouse_event = function (event, name) {\n    if (name === 'button_press') {\n        this.canvas.focus();\n        this.canvas_div.focus();\n    }\n\n    // from https://stackoverflow.com/q/1114465\n    var boundingRect = this.canvas.getBoundingClientRect();\n    var x = (event.clientX - boundingRect.left) * this.ratio;\n    var y = (event.clientY - boundingRect.top) * this.ratio;\n\n    this.send_message(name, {\n        x: x,\n        y: y,\n        button: event.button,\n        step: event.step,\n        modifiers: getModifiers(event),\n        guiEvent: simpleKeys(event),\n    });\n\n    return false;\n};\n\nmpl.figure.prototype._key_event_extra = function (_event, _name) {\n    // Handle any extra behaviour associated with a key event\n};\n\nmpl.figure.prototype.key_event = function (event, name) {\n    // Prevent repeat events\n    if (name === 'key_press') {\n        if (event.key === this._key) {\n            return;\n        } else {\n            this._key = event.key;\n        }\n    }\n    if (name === 'key_release') {\n        this._key = null;\n    }\n\n    var value = '';\n    if (event.ctrlKey && event.key !== 'Control') {\n        value += 'ctrl+';\n    }\n    else if (event.altKey && event.key !== 'Alt') {\n        value += 'alt+';\n    }\n    else if (event.shiftKey && event.key !== 'Shift') {\n        value += 'shift+';\n    }\n\n    value += 'k' + event.key;\n\n    this._key_event_extra(event, name);\n\n    this.send_message(name, { key: value, guiEvent: simpleKeys(event) });\n    return false;\n};\n\nmpl.figure.prototype.toolbar_button_onclick = function (name) {\n    if (name === 'download') {\n        this.handle_save(this, null);\n    } else {\n        this.send_message('toolbar_button', { name: name });\n    }\n};\n\nmpl.figure.prototype.toolbar_button_onmouseover = function (tooltip) {\n    this.message.textContent = tooltip;\n};\n\n///////////////// REMAINING CONTENT GENERATED BY embed_js.py /////////////////\n// prettier-ignore\nvar _JSXTOOLS_RESIZE_OBSERVER=function(A){var t,i=new WeakMap,n=new WeakMap,a=new WeakMap,r=new WeakMap,o=new Set;function s(e){if(!(this instanceof s))throw new TypeError(\"Constructor requires 'new' operator\");i.set(this,e)}function h(){throw new TypeError(\"Function is not a constructor\")}function c(e,t,i,n){e=0 in arguments?Number(arguments[0]):0,t=1 in arguments?Number(arguments[1]):0,i=2 in arguments?Number(arguments[2]):0,n=3 in arguments?Number(arguments[3]):0,this.right=(this.x=this.left=e)+(this.width=i),this.bottom=(this.y=this.top=t)+(this.height=n),Object.freeze(this)}function d(){t=requestAnimationFrame(d);var s=new WeakMap,p=new Set;o.forEach((function(t){r.get(t).forEach((function(i){var r=t instanceof window.SVGElement,o=a.get(t),d=r?0:parseFloat(o.paddingTop),f=r?0:parseFloat(o.paddingRight),l=r?0:parseFloat(o.paddingBottom),u=r?0:parseFloat(o.paddingLeft),g=r?0:parseFloat(o.borderTopWidth),m=r?0:parseFloat(o.borderRightWidth),w=r?0:parseFloat(o.borderBottomWidth),b=u+f,F=d+l,v=(r?0:parseFloat(o.borderLeftWidth))+m,W=g+w,y=r?0:t.offsetHeight-W-t.clientHeight,E=r?0:t.offsetWidth-v-t.clientWidth,R=b+v,z=F+W,M=r?t.width:parseFloat(o.width)-R-E,O=r?t.height:parseFloat(o.height)-z-y;if(n.has(t)){var k=n.get(t);if(k[0]===M&&k[1]===O)return}n.set(t,[M,O]);var S=Object.create(h.prototype);S.target=t,S.contentRect=new c(u,d,M,O),s.has(i)||(s.set(i,[]),p.add(i)),s.get(i).push(S)}))})),p.forEach((function(e){i.get(e).call(e,s.get(e),e)}))}return s.prototype.observe=function(i){if(i instanceof window.Element){r.has(i)||(r.set(i,new Set),o.add(i),a.set(i,window.getComputedStyle(i)));var n=r.get(i);n.has(this)||n.add(this),cancelAnimationFrame(t),t=requestAnimationFrame(d)}},s.prototype.unobserve=function(i){if(i instanceof window.Element&&r.has(i)){var n=r.get(i);n.has(this)&&(n.delete(this),n.size||(r.delete(i),o.delete(i))),n.size||r.delete(i),o.size||cancelAnimationFrame(t)}},A.DOMRectReadOnly=c,A.ResizeObserver=s,A.ResizeObserverEntry=h,A}; // eslint-disable-line\nmpl.toolbar_items = [[\"Home\", \"Reset original view\", \"fa fa-home\", \"home\"], [\"Back\", \"Back to previous view\", \"fa fa-arrow-left\", \"back\"], [\"Forward\", \"Forward to next view\", \"fa fa-arrow-right\", \"forward\"], [\"\", \"\", \"\", \"\"], [\"Pan\", \"Left button pans, Right button zooms\\nx/y fixes axis, CTRL fixes aspect\", \"fa fa-arrows\", \"pan\"], [\"Zoom\", \"Zoom to rectangle\\nx/y fixes axis\", \"fa fa-square-o\", \"zoom\"], [\"\", \"\", \"\", \"\"], [\"Download\", \"Download plot\", \"fa fa-floppy-o\", \"download\"]];\n\nmpl.extensions = [\"eps\", \"jpeg\", \"pgf\", \"pdf\", \"png\", \"ps\", \"raw\", \"svg\", \"tif\", \"webp\"];\n\nmpl.default_extension = \"png\";/* global mpl */\n\nvar comm_websocket_adapter = function (comm) {\n    // Create a \"websocket\"-like object which calls the given IPython comm\n    // object with the appropriate methods. Currently this is a non binary\n    // socket, so there is still some room for performance tuning.\n    var ws = {};\n\n    ws.binaryType = comm.kernel.ws.binaryType;\n    ws.readyState = comm.kernel.ws.readyState;\n    function updateReadyState(_event) {\n        if (comm.kernel.ws) {\n            ws.readyState = comm.kernel.ws.readyState;\n        } else {\n            ws.readyState = 3; // Closed state.\n        }\n    }\n    comm.kernel.ws.addEventListener('open', updateReadyState);\n    comm.kernel.ws.addEventListener('close', updateReadyState);\n    comm.kernel.ws.addEventListener('error', updateReadyState);\n\n    ws.close = function () {\n        comm.close();\n    };\n    ws.send = function (m) {\n        //console.log('sending', m);\n        comm.send(m);\n    };\n    // Register the callback with on_msg.\n    comm.on_msg(function (msg) {\n        //console.log('receiving', msg['content']['data'], msg);\n        var data = msg['content']['data'];\n        if (data['blob'] !== undefined) {\n            data = {\n                data: new Blob(msg['buffers'], { type: data['blob'] }),\n            };\n        }\n        // Pass the mpl event to the overridden (by mpl) onmessage function.\n        ws.onmessage(data);\n    });\n    return ws;\n};\n\nmpl.mpl_figure_comm = function (comm, msg) {\n    // This is the function which gets called when the mpl process\n    // starts-up an IPython Comm through the \"matplotlib\" channel.\n\n    var id = msg.content.data.id;\n    // Get hold of the div created by the display call when the Comm\n    // socket was opened in Python.\n    var element = document.getElementById(id);\n    var ws_proxy = comm_websocket_adapter(comm);\n\n    function ondownload(figure, _format) {\n        window.open(figure.canvas.toDataURL());\n    }\n\n    var fig = new mpl.figure(id, ws_proxy, ondownload, element);\n\n    // Call onopen now - mpl needs it, as it is assuming we've passed it a real\n    // web socket which is closed, not our websocket->open comm proxy.\n    ws_proxy.onopen();\n\n    fig.parent_element = element;\n    fig.cell_info = mpl.find_output_cell(\"<div id='\" + id + \"'></div>\");\n    if (!fig.cell_info) {\n        console.error('Failed to find cell for figure', id, fig);\n        return;\n    }\n    fig.cell_info[0].output_area.element.on(\n        'cleared',\n        { fig: fig },\n        fig._remove_fig_handler\n    );\n};\n\nmpl.figure.prototype.handle_close = function (fig, msg) {\n    var width = fig.canvas.width / fig.ratio;\n    fig.cell_info[0].output_area.element.off(\n        'cleared',\n        fig._remove_fig_handler\n    );\n    fig.resizeObserverInstance.unobserve(fig.canvas_div);\n\n    // Update the output cell to use the data from the current canvas.\n    fig.push_to_output();\n    var dataURL = fig.canvas.toDataURL();\n    // Re-enable the keyboard manager in IPython - without this line, in FF,\n    // the notebook keyboard shortcuts fail.\n    IPython.keyboard_manager.enable();\n    fig.parent_element.innerHTML =\n        '<img src=\"' + dataURL + '\" width=\"' + width + '\">';\n    fig.close_ws(fig, msg);\n};\n\nmpl.figure.prototype.close_ws = function (fig, msg) {\n    fig.send_message('closing', msg);\n    // fig.ws.close()\n};\n\nmpl.figure.prototype.push_to_output = function (_remove_interactive) {\n    // Turn the data on the canvas into data in the output cell.\n    var width = this.canvas.width / this.ratio;\n    var dataURL = this.canvas.toDataURL();\n    this.cell_info[1]['text/html'] =\n        '<img src=\"' + dataURL + '\" width=\"' + width + '\">';\n};\n\nmpl.figure.prototype.updated_canvas_event = function () {\n    // Tell IPython that the notebook contents must change.\n    IPython.notebook.set_dirty(true);\n    this.send_message('ack', {});\n    var fig = this;\n    // Wait a second, then push the new image to the DOM so\n    // that it is saved nicely (might be nice to debounce this).\n    setTimeout(function () {\n        fig.push_to_output();\n    }, 1000);\n};\n\nmpl.figure.prototype._init_toolbar = function () {\n    var fig = this;\n\n    var toolbar = document.createElement('div');\n    toolbar.classList = 'btn-toolbar';\n    this.root.appendChild(toolbar);\n\n    function on_click_closure(name) {\n        return function (_event) {\n            return fig.toolbar_button_onclick(name);\n        };\n    }\n\n    function on_mouseover_closure(tooltip) {\n        return function (event) {\n            if (!event.currentTarget.disabled) {\n                return fig.toolbar_button_onmouseover(tooltip);\n            }\n        };\n    }\n\n    fig.buttons = {};\n    var buttonGroup = document.createElement('div');\n    buttonGroup.classList = 'btn-group';\n    var button;\n    for (var toolbar_ind in mpl.toolbar_items) {\n        var name = mpl.toolbar_items[toolbar_ind][0];\n        var tooltip = mpl.toolbar_items[toolbar_ind][1];\n        var image = mpl.toolbar_items[toolbar_ind][2];\n        var method_name = mpl.toolbar_items[toolbar_ind][3];\n\n        if (!name) {\n            /* Instead of a spacer, we start a new button group. */\n            if (buttonGroup.hasChildNodes()) {\n                toolbar.appendChild(buttonGroup);\n            }\n            buttonGroup = document.createElement('div');\n            buttonGroup.classList = 'btn-group';\n            continue;\n        }\n\n        button = fig.buttons[name] = document.createElement('button');\n        button.classList = 'btn btn-default';\n        button.href = '#';\n        button.title = name;\n        button.innerHTML = '<i class=\"fa ' + image + ' fa-lg\"></i>';\n        button.addEventListener('click', on_click_closure(method_name));\n        button.addEventListener('mouseover', on_mouseover_closure(tooltip));\n        buttonGroup.appendChild(button);\n    }\n\n    if (buttonGroup.hasChildNodes()) {\n        toolbar.appendChild(buttonGroup);\n    }\n\n    // Add the status bar.\n    var status_bar = document.createElement('span');\n    status_bar.classList = 'mpl-message pull-right';\n    toolbar.appendChild(status_bar);\n    this.message = status_bar;\n\n    // Add the close button to the window.\n    var buttongrp = document.createElement('div');\n    buttongrp.classList = 'btn-group inline pull-right';\n    button = document.createElement('button');\n    button.classList = 'btn btn-mini btn-primary';\n    button.href = '#';\n    button.title = 'Stop Interaction';\n    button.innerHTML = '<i class=\"fa fa-power-off icon-remove icon-large\"></i>';\n    button.addEventListener('click', function (_evt) {\n        fig.handle_close(fig, {});\n    });\n    button.addEventListener(\n        'mouseover',\n        on_mouseover_closure('Stop Interaction')\n    );\n    buttongrp.appendChild(button);\n    var titlebar = this.root.querySelector('.ui-dialog-titlebar');\n    titlebar.insertBefore(buttongrp, titlebar.firstChild);\n};\n\nmpl.figure.prototype._remove_fig_handler = function (event) {\n    var fig = event.data.fig;\n    if (event.target !== this) {\n        // Ignore bubbled events from children.\n        return;\n    }\n    fig.close_ws(fig, {});\n};\n\nmpl.figure.prototype._root_extra_style = function (el) {\n    el.style.boxSizing = 'content-box'; // override notebook setting of border-box.\n};\n\nmpl.figure.prototype._canvas_extra_style = function (el) {\n    // this is important to make the div 'focusable\n    el.setAttribute('tabindex', 0);\n    // reach out to IPython and tell the keyboard manager to turn it's self\n    // off when our div gets focus\n\n    // location in version 3\n    if (IPython.notebook.keyboard_manager) {\n        IPython.notebook.keyboard_manager.register_events(el);\n    } else {\n        // location in version 2\n        IPython.keyboard_manager.register_events(el);\n    }\n};\n\nmpl.figure.prototype._key_event_extra = function (event, _name) {\n    // Check for shift+enter\n    if (event.shiftKey && event.which === 13) {\n        this.canvas_div.blur();\n        // select the cell after this one\n        var index = IPython.notebook.find_cell_index(this.cell_info[0]);\n        IPython.notebook.select(index + 1);\n    }\n};\n\nmpl.figure.prototype.handle_save = function (fig, _msg) {\n    fig.ondownload(fig, null);\n};\n\nmpl.find_output_cell = function (html_output) {\n    // Return the cell and output element which can be found *uniquely* in the notebook.\n    // Note - this is a bit hacky, but it is done because the \"notebook_saving.Notebook\"\n    // IPython event is triggered only after the cells have been serialised, which for\n    // our purposes (turning an active figure into a static one), is too late.\n    var cells = IPython.notebook.get_cells();\n    var ncells = cells.length;\n    for (var i = 0; i < ncells; i++) {\n        var cell = cells[i];\n        if (cell.cell_type === 'code') {\n            for (var j = 0; j < cell.output_area.outputs.length; j++) {\n                var data = cell.output_area.outputs[j];\n                if (data.data) {\n                    // IPython >= 3 moved mimebundle to data attribute of output\n                    data = data.data;\n                }\n                if (data['text/html'] === html_output) {\n                    return [cell, data, j];\n                }\n            }\n        }\n    }\n};\n\n// Register the function which deals with the matplotlib target/channel.\n// The kernel may be null if the page has been refreshed.\nif (IPython.notebook.kernel !== null) {\n    IPython.notebook.kernel.comm_manager.register_target(\n        'matplotlib',\n        mpl.mpl_figure_comm\n    );\n}\n",
      "text/plain": [
       "<IPython.core.display.Javascript object>"
      ]
     },
     "metadata": {},
     "output_type": "display_data"
    },
    {
     "data": {
      "text/html": [
       "<div id='262157d6-d524-4ddc-a4d9-42926a9395f3'></div>"
      ],
      "text/plain": [
       "<IPython.core.display.HTML object>"
      ]
     },
     "metadata": {},
     "output_type": "display_data"
    },
    {
     "data": {
      "text/plain": [
       "<Axes: >"
      ]
     },
     "execution_count": 84,
     "metadata": {},
     "output_type": "execute_result"
    }
   ],
   "source": [
    "ohlcv['close'].plot() #sanity check"
   ]
  },
  {
   "cell_type": "code",
   "execution_count": 115,
   "id": "b984e544",
   "metadata": {},
   "outputs": [],
   "source": [
    "ohlcv = ohlcv[ohlcv['timestamp'] != '2024-10-24 21:00:00'] #remove broken data for aesthetic"
   ]
  },
  {
   "cell_type": "code",
   "execution_count": 116,
   "id": "fef0f772",
   "metadata": {},
   "outputs": [],
   "source": [
    "class PandasDataFeed(PandasData):\n",
    "    params = (\n",
    "        ('datetime', 'timestamp'),\n",
    "        ('open', 'open'),\n",
    "        ('high', 'high'),\n",
    "        ('low', 'low'),\n",
    "        ('close', 'close'),\n",
    "        ('volume', 'volume'),\n",
    "        ('openinterest', -1),  # Set to -1 to disable\n",
    "    )"
   ]
  },
  {
   "cell_type": "code",
   "execution_count": 120,
   "id": "5a6a4bd9",
   "metadata": {},
   "outputs": [],
   "source": [
    "class SimpleMAStrategy(bt.Strategy):\n",
    "    params = (\n",
    "        ('fast_period', 50),\n",
    "        ('slow_period', 200),\n",
    "        ('stop_loss', 0.02),  # 2% stop loss\n",
    "        ('trailing_stop', False),  # Enable trailing stop\n",
    "        ('risk_percent', 0.95),  # Use 95% of portfolio\n",
    "    )\n",
    "    \n",
    "    def __init__(self):\n",
    "        self.fast_ma = bt.indicators.SimpleMovingAverage(\n",
    "            self.data.close, period=self.params.fast_period\n",
    "        )\n",
    "        self.slow_ma = bt.indicators.SimpleMovingAverage(\n",
    "            self.data.close, period=self.params.slow_period\n",
    "        )\n",
    "        self.crossover = bt.indicators.CrossOver(self.fast_ma, self.slow_ma)\n",
    "        self.crossover.plotinfo.plot = False\n",
    "        self.crossover.plotinfo.plotmaster = self.data\n",
    "        \n",
    "        self.order = None\n",
    "        self.buy_price = None\n",
    "    \n",
    "    def next(self):\n",
    "        # Check stop loss first if we have a position\n",
    "        if self.position:\n",
    "            # Calculate stop loss price\n",
    "            stop_price = self.buy_price * (1 - self.params.stop_loss)\n",
    "            \n",
    "            # Exit on stop loss\n",
    "            if self.data.close[0] <= stop_price:\n",
    "                self.close()\n",
    "                return\n",
    "            \n",
    "            # Exit on MA crossover\n",
    "            if self.crossover < 0:\n",
    "                self.close()\n",
    "                return\n",
    "        \n",
    "        # Entry logic\n",
    "        if not self.position:\n",
    "            if self.crossover > 0:\n",
    "                # Calculate position size\n",
    "                cash = self.broker.getcash() * self.params.risk_percent\n",
    "                size = cash / self.data.close[0]\n",
    "                self.buy(size=size)\n",
    "                self.buy_price = self.data.close[0]\n",
    "    \n",
    "    def notify_order(self, order):\n",
    "        if order.status in [order.Completed]:\n",
    "            if order.isbuy():\n",
    "                self.buy_price = order.executed.price"
   ]
  },
  {
   "cell_type": "code",
   "execution_count": 128,
   "id": "c066fb6f",
   "metadata": {},
   "outputs": [
    {
     "name": "stdout",
     "output_type": "stream",
     "text": [
      "Starting Portfolio Value: 10000.00\n",
      "Final Portfolio Value: 20949.23\n"
     ]
    }
   ],
   "source": [
    "# Create cerebro engine\n",
    "cerebro = bt.Cerebro()\n",
    "\n",
    "# Prepare data - ensure timestamp is datetime and set as index\n",
    "ohlcv_bt = ohlcv.copy()\n",
    "ohlcv_bt['timestamp'] = pd.to_datetime(ohlcv_bt['timestamp'])  # Convert to datetime\n",
    "ohlcv_bt = ohlcv_bt.set_index('timestamp')  # Set as index\n",
    "\n",
    "# Add data feed using built-in PandasData\n",
    "data = bt.feeds.PandasData(\n",
    "    dataname=ohlcv_bt,\n",
    "    openinterest=-1\n",
    ")\n",
    "cerebro.adddata(data, name='Will Donald Trump win the 2024 US Presidential Election')\n",
    "\n",
    "# Add strategy\n",
    "cerebro.addstrategy(SimpleMAStrategy)\n",
    "\n",
    "# Set initial cash\n",
    "cerebro.broker.setcash(10000.0)\n",
    "\n",
    "# Set commission (0.1%)\n",
    "cerebro.broker.setcommission(commission=0)\n",
    "\n",
    "# Print starting conditions\n",
    "print(f'Starting Portfolio Value: {cerebro.broker.getvalue():.2f}')\n",
    "\n",
    "# Run backtest\n",
    "cerebro.run()\n",
    "\n",
    "# Print final results\n",
    "print(f'Final Portfolio Value: {cerebro.broker.getvalue():.2f}')"
   ]
  },
  {
   "cell_type": "code",
   "execution_count": null,
   "id": "a5345f9b",
   "metadata": {},
   "outputs": [],
   "source": [
    "scheme = Blackly()\n",
    "\n",
    "\n",
    "\n",
    "b = Bokeh(\n",
    "    style='bar', \n",
    "    plot_mode='single', \n",
    "    scheme=scheme,\n",
    "    output_mode='save',\n",
    "    filename='processed/plot.html'\n",
    ")\n",
    "cerebro.plot(b)\n"
   ]
  },
  {
   "cell_type": "code",
   "execution_count": null,
   "id": "910cc997",
   "metadata": {},
   "outputs": [],
   "source": []
  }
 ],
 "metadata": {
  "kernelspec": {
   "display_name": "Python 3",
   "language": "python",
   "name": "python3"
  },
  "language_info": {
   "codemirror_mode": {
    "name": "ipython",
    "version": 3
   },
   "file_extension": ".py",
   "mimetype": "text/x-python",
   "name": "python",
   "nbconvert_exporter": "python",
   "pygments_lexer": "ipython3",
   "version": "3.9.6"
  }
 },
 "nbformat": 4,
 "nbformat_minor": 5
}
