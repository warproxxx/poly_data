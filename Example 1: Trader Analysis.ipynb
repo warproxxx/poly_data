{
 "cells": [
  {
   "cell_type": "code",
   "execution_count": 1,
   "id": "2d8dcdc6",
   "metadata": {},
   "outputs": [],
   "source": [
    "import warnings\n",
    "warnings.filterwarnings('ignore')\n",
    "\n",
    "import pandas as pd\n",
    "import polars as pl\n",
    "import matplotlib.pyplot as plt\n",
    "from poly_utils import get_markets, PLATFORM_WALLETS\n",
    "\n",
    "pl.Config.set_tbl_rows(25)\n",
    "pl.Config.set_tbl_cols(-1)  # Show all columns\n",
    "cfg = pl.Config.set_tbl_width_chars(1000)  # Wider display\n"
   ]
  },
  {
   "cell_type": "code",
   "execution_count": 2,
   "id": "21a71006",
   "metadata": {},
   "outputs": [
    {
     "name": "stdout",
     "output_type": "stream",
     "text": [
      "Loaded 119554 markets from markets.csv\n",
      "Combined total: 119277 unique markets (sorted by createdAt)\n"
     ]
    }
   ],
   "source": [
    "markets_df = get_markets()"
   ]
  },
  {
   "cell_type": "code",
   "execution_count": 3,
   "id": "4663ee81",
   "metadata": {},
   "outputs": [],
   "source": [
    "df = pl.scan_csv(\"processed/trades.csv\").collect(streaming=True)\n",
    "\n",
    "df = df.with_columns(\n",
    "    pl.col(\"timestamp\").str.to_datetime().alias(\"timestamp\")\n",
    ")"
   ]
  },
  {
   "cell_type": "code",
   "execution_count": 4,
   "id": "04598c7e",
   "metadata": {},
   "outputs": [],
   "source": [
    "USERS = {\n",
    "    'domah': '0x9d84ce0306f8551e02efef1680475fc0f1dc1344',\n",
    "    '50pence': '0x3cf3e8d5427aed066a7a5926980600f6c3cf87b3',\n",
    "    'fhantom': '0x6356fb47642a028bc09df92023c35a21a0b41885',\n",
    "    'car': '0x7c3db723f1d4d8cb9c550095203b686cb11e5c6b',\n",
    "    'theo4': '0x56687bf447db6ffa42ffe2204a05edaa20f55839'\n",
    "}"
   ]
  },
  {
   "cell_type": "code",
   "execution_count": 7,
   "id": "f8067d86",
   "metadata": {},
   "outputs": [],
   "source": [
    "# a easy hack that does a good enough job of determining redemptions\n",
    "\n",
    "df = df.with_columns(\n",
    "    pl.col(\"price\")\n",
    "      .sort_by(\"timestamp\")          # ensure we use the latest trade within each group\n",
    "      .last()\n",
    "      .over([\"market_id\", \"nonusdc_side\"])\n",
    "      .alias(\"last_price\")\n",
    ")\n",
    "\n",
    "df = df.with_columns(\n",
    "    last_price = (\n",
    "        pl.when(pl.col(\"last_price\") > 0.98).then(pl.lit(1.0))\n",
    "         .when(pl.col(\"last_price\") < 0.02).then(pl.lit(0.0))\n",
    "         .otherwise(pl.col(\"last_price\"))\n",
    "    )\n",
    ")\n"
   ]
  },
  {
   "cell_type": "markdown",
   "id": "9fc658e9",
   "metadata": {},
   "source": [
    "### This is how polymarket generates its events and this is how you get all trades for a given user. Even if it looks like we are only getting data where the user is a maker, that is not how it works on the contract level. maker shows trades from that users pov including price"
   ]
  },
  {
   "cell_type": "code",
   "execution_count": 8,
   "id": "a2f60e67",
   "metadata": {},
   "outputs": [],
   "source": [
    "trader_df = df.filter((pl.col(\"maker\") == USERS['domah']))"
   ]
  },
  {
   "cell_type": "code",
   "execution_count": null,
   "id": "ebf0e4c3",
   "metadata": {},
   "outputs": [],
   "source": []
  },
  {
   "cell_type": "code",
   "execution_count": 9,
   "id": "980a7ff0",
   "metadata": {},
   "outputs": [],
   "source": [
    "trader_df = trader_df[['timestamp', 'market_id', 'maker', 'taker', 'maker_direction', 'nonusdc_side', 'price', 'token_amount', 'usd_amount', 'transactionHash', 'last_price']]\n",
    "trader_df = trader_df.rename({'maker_direction': 'direction', 'nonusdc_side': 'side'})"
   ]
  },
  {
   "cell_type": "code",
   "execution_count": 13,
   "id": "b1319fa6",
   "metadata": {},
   "outputs": [],
   "source": [
    "trader_df = (\n",
    "    trader_df\n",
    "    .group_by([\"market_id\", \"side\"])\n",
    "    .agg(\n",
    "        # USD volumes\n",
    "        (pl.when(pl.col(\"direction\") == \"BUY\").then(pl.col(\"usd_amount\")).otherwise(0.0)).sum().alias(\"buy_usd\"),\n",
    "        (pl.when(pl.col(\"direction\") == \"SELL\").then(pl.col(\"usd_amount\")).otherwise(0.0)).sum().alias(\"sell_usd\"),\n",
    "\n",
    "        # Token volumes\n",
    "        (pl.when(pl.col(\"direction\") == \"BUY\").then(pl.col(\"token_amount\")).otherwise(0.0)).sum().alias(\"buy_tokens\"),\n",
    "        (pl.when(pl.col(\"direction\") == \"SELL\").then(pl.col(\"token_amount\")).otherwise(0.0)).sum().alias(\"sell_tokens\"),\n",
    "\n",
    "        # Notionals for VWAPs\n",
    "        (pl.when(pl.col(\"direction\") == \"BUY\").then(pl.col(\"price\") * pl.col(\"token_amount\")).otherwise(0.0)).sum().alias(\"buy_notional\"),\n",
    "        (pl.when(pl.col(\"direction\") == \"SELL\").then(pl.col(\"price\") * pl.col(\"token_amount\")).otherwise(0.0)).sum().alias(\"sell_notional\"),\n",
    "\n",
    "        pl.len().alias(\"trades\"),\n",
    "        pl.col(\"last_price\").last().alias(\"last_price\"),\n",
    "    )\n",
    "    .with_columns(\n",
    "        (pl.col(\"sell_usd\") - pl.col(\"buy_usd\")).alias(\"cash_pnl_usd\"),\n",
    "        (pl.col(\"buy_tokens\") - pl.col(\"sell_tokens\")).alias(\"inventory_tokens\"),\n",
    "    )\n",
    "    .with_columns(\n",
    "        (pl.col(\"inventory_tokens\") * pl.col(\"last_price\")).alias(\"unrealized_usd\"),\n",
    "    )\n",
    "    .with_columns(\n",
    "        (pl.col(\"cash_pnl_usd\") + pl.col(\"unrealized_usd\")).alias(\"total_pnl_usd\"),\n",
    "    )\n",
    ")"
   ]
  },
  {
   "cell_type": "code",
   "execution_count": null,
   "id": "3c8ec5b1",
   "metadata": {},
   "outputs": [
    {
     "data": {
      "text/plain": [
       "2193037.3678080263"
      ]
     },
     "execution_count": 15,
     "metadata": {},
     "output_type": "execute_result"
    }
   ],
   "source": [
    "trader_df['total_pnl_usd'].sum() #domers total PnL. Checks out within 1% in the UI"
   ]
  },
  {
   "cell_type": "code",
   "execution_count": null,
   "id": "df1fc7c9",
   "metadata": {},
   "outputs": [],
   "source": []
  }
 ],
 "metadata": {
  "kernelspec": {
   "display_name": "Python 3",
   "language": "python",
   "name": "python3"
  },
  "language_info": {
   "codemirror_mode": {
    "name": "ipython",
    "version": 3
   },
   "file_extension": ".py",
   "mimetype": "text/x-python",
   "name": "python",
   "nbconvert_exporter": "python",
   "pygments_lexer": "ipython3",
   "version": "3.9.6"
  }
 },
 "nbformat": 4,
 "nbformat_minor": 5
}
