{
 "cells": [
  {
   "cell_type": "code",
   "execution_count": 1,
   "id": "2d8dcdc6",
   "metadata": {},
   "outputs": [],
   "source": [
    "import warnings\n",
    "warnings.filterwarnings('ignore')\n",
    "\n",
    "import pandas as pd\n",
    "import polars as pl\n",
    "import matplotlib.pyplot as plt\n",
    "from poly_utils import get_markets, PLATFORM_WALLETS\n",
    "\n",
    "pl.Config.set_tbl_rows(25)\n",
    "pl.Config.set_tbl_cols(-1)  # Show all columns\n",
    "cfg = pl.Config.set_tbl_width_chars(1000)  # Wider display\n"
   ]
  },
  {
   "cell_type": "code",
   "execution_count": 2,
   "id": "21a71006",
   "metadata": {},
   "outputs": [
    {
     "name": "stdout",
     "output_type": "stream",
     "text": [
      "Loaded 111655 markets from markets.csv\n",
      "Combined total: 111628 unique markets (sorted by createdAt)\n"
     ]
    }
   ],
   "source": [
    "markets_df = get_markets()"
   ]
  },
  {
   "cell_type": "code",
   "execution_count": null,
   "id": "4663ee81",
   "metadata": {},
   "outputs": [],
   "source": [
    "df = pl.scan_csv(\"processed/trades.csv\").collect(streaming=True)\n",
    "\n",
    "df = df.with_columns(\n",
    "    pl.col(\"timestamp\").str.to_datetime().alias(\"timestamp\")\n",
    ")"
   ]
  },
  {
   "cell_type": "code",
   "execution_count": null,
   "id": "04598c7e",
   "metadata": {},
   "outputs": [],
   "source": [
    "USERS = {\n",
    "    'domah': '0x9d84ce0306f8551e02efef1680475fc0f1dc1344',\n",
    "    '50pence': '0x3cf3e8d5427aed066a7a5926980600f6c3cf87b3',\n",
    "    'fhantom': '0x6356fb47642a028bc09df92023c35a21a0b41885',\n",
    "    'car': '0x7c3db723f1d4d8cb9c550095203b686cb11e5c6b',\n",
    "    'theo4': '0x56687bf447db6ffa42ffe2204a05edaa20f55839'\n",
    "}"
   ]
  },
  {
   "cell_type": "code",
   "execution_count": null,
   "id": "f8067d86",
   "metadata": {},
   "outputs": [],
   "source": []
  },
  {
   "cell_type": "markdown",
   "id": "9fc658e9",
   "metadata": {},
   "source": [
    "### This is how polymarket generates its events and this is how you get all trades for a given user. Even if it looks like we are only getting data where the user is a maker, that is not how it works on the contract level. maker shows trades from that users pov including price"
   ]
  },
  {
   "cell_type": "code",
   "execution_count": null,
   "id": "a2f60e67",
   "metadata": {},
   "outputs": [],
   "source": [
    "trader_df = df.filter((pl.col(\"maker\") == USERS['domah']))"
   ]
  }
 ],
 "metadata": {
  "kernelspec": {
   "display_name": "Python 3",
   "language": "python",
   "name": "python3"
  },
  "language_info": {
   "codemirror_mode": {
    "name": "ipython",
    "version": 3
   },
   "file_extension": ".py",
   "mimetype": "text/x-python",
   "name": "python",
   "nbconvert_exporter": "python",
   "pygments_lexer": "ipython3",
   "version": "3.9.6"
  }
 },
 "nbformat": 4,
 "nbformat_minor": 5
}
